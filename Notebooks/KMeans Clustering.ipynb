{
 "cells": [
  {
   "cell_type": "code",
   "execution_count": 2,
   "id": "ca72767a-a9c8-42cf-9d75-05fd397a3581",
   "metadata": {},
   "outputs": [],
   "source": [
    "import os\n",
    "import datetime\n",
    "timestamp = datetime.datetime.now()\n",
    "from sklearn.decomposition import PCA\n",
    "import seaborn as sns\n",
    "import cv2\n",
    "import random\n",
    "import matplotlib.pyplot as plt\n",
    "%matplotlib inline \n",
    "import numpy as np\n",
    "import numpy.ma as ma\n",
    "import pandas as pd\n",
    "from PIL import ImageColor\n",
    "from sklearn.cluster import KMeans\n",
    "import shap\n",
    "\n"
   ]
  },
  {
   "cell_type": "code",
   "execution_count": 3,
   "id": "99f62779-34f6-4d71-aa25-b167cf448d1b",
   "metadata": {},
   "outputs": [
    {
     "data": {
      "text/html": [
       "<div>\n",
       "<style scoped>\n",
       "    .dataframe tbody tr th:only-of-type {\n",
       "        vertical-align: middle;\n",
       "    }\n",
       "\n",
       "    .dataframe tbody tr th {\n",
       "        vertical-align: top;\n",
       "    }\n",
       "\n",
       "    .dataframe thead th {\n",
       "        text-align: right;\n",
       "    }\n",
       "</style>\n",
       "<table border=\"1\" class=\"dataframe\">\n",
       "  <thead>\n",
       "    <tr style=\"text-align: right;\">\n",
       "      <th></th>\n",
       "      <th>method</th>\n",
       "      <th>masked</th>\n",
       "      <th>grey</th>\n",
       "      <th>red</th>\n",
       "      <th>green</th>\n",
       "      <th>blue</th>\n",
       "      <th>SRM</th>\n",
       "      <th>EBC</th>\n",
       "      <th>brightness</th>\n",
       "    </tr>\n",
       "  </thead>\n",
       "  <tbody>\n",
       "    <tr>\n",
       "      <th>0</th>\n",
       "      <td>random sampling</td>\n",
       "      <td>True</td>\n",
       "      <td>81</td>\n",
       "      <td>157</td>\n",
       "      <td>56</td>\n",
       "      <td>9</td>\n",
       "      <td>17</td>\n",
       "      <td>33</td>\n",
       "      <td>47</td>\n",
       "    </tr>\n",
       "    <tr>\n",
       "      <th>1</th>\n",
       "      <td>pca + random sampling</td>\n",
       "      <td>True</td>\n",
       "      <td>79</td>\n",
       "      <td>155</td>\n",
       "      <td>54</td>\n",
       "      <td>7</td>\n",
       "      <td>17</td>\n",
       "      <td>33</td>\n",
       "      <td>46</td>\n",
       "    </tr>\n",
       "    <tr>\n",
       "      <th>2</th>\n",
       "      <td>most dominant</td>\n",
       "      <td>True</td>\n",
       "      <td>80</td>\n",
       "      <td>153</td>\n",
       "      <td>52</td>\n",
       "      <td>4</td>\n",
       "      <td>18</td>\n",
       "      <td>35</td>\n",
       "      <td>47</td>\n",
       "    </tr>\n",
       "    <tr>\n",
       "      <th>3</th>\n",
       "      <td>pca + most dominant</td>\n",
       "      <td>True</td>\n",
       "      <td>79</td>\n",
       "      <td>155</td>\n",
       "      <td>54</td>\n",
       "      <td>7</td>\n",
       "      <td>17</td>\n",
       "      <td>33</td>\n",
       "      <td>46</td>\n",
       "    </tr>\n",
       "    <tr>\n",
       "      <th>4</th>\n",
       "      <td>raw</td>\n",
       "      <td>False</td>\n",
       "      <td>79</td>\n",
       "      <td>155</td>\n",
       "      <td>53</td>\n",
       "      <td>7</td>\n",
       "      <td>17</td>\n",
       "      <td>33</td>\n",
       "      <td>46</td>\n",
       "    </tr>\n",
       "  </tbody>\n",
       "</table>\n",
       "</div>"
      ],
      "text/plain": [
       "                  method  masked  grey  red  green  blue  SRM  EBC  brightness\n",
       "0        random sampling    True    81  157     56     9   17   33          47\n",
       "1  pca + random sampling    True    79  155     54     7   17   33          46\n",
       "2          most dominant    True    80  153     52     4   18   35          47\n",
       "3    pca + most dominant    True    79  155     54     7   17   33          46\n",
       "4                    raw   False    79  155     53     7   17   33          46"
      ]
     },
     "execution_count": 3,
     "metadata": {},
     "output_type": "execute_result"
    }
   ],
   "source": [
    "df_results = pd.read_csv('results.csv')\n",
    "df_results.head()"
   ]
  },
  {
   "cell_type": "code",
   "execution_count": 4,
   "id": "ae9257e2-6987-4f2c-8eb1-ce1691b3acd0",
   "metadata": {},
   "outputs": [
    {
     "data": {
      "image/png": "[encoded data removed]",
      "text/plain": [
       "<Figure size 432x288 with 1 Axes>"
      ]
     },
     "metadata": {
      "needs_background": "light"
     },
     "output_type": "display_data"
    }
   ],
   "source": [
    "# to view the data \n",
    "#first make a result matrix for each configuration\n",
    "configuration = ['most dominant', 'pca + most dominant', \n",
    "                 'pca + random sampling', 'random sampling', 'raw']\n",
    "\n",
    "# Normalize\n",
    "# to eliminate diffrent range effect \n",
    "from sklearn.preprocessing import StandardScaler\n",
    "\n",
    "def normalize(X):\n",
    "    scalar = StandardScaler()\n",
    "    scalar = scalar.fit(X)\n",
    "    X = scalar.transform(X)\n",
    "    return X\n",
    "    \n",
    "\n",
    "for method in configuration:\n",
    "    df_results_method = df_results[df_results['method']==method]\n",
    "    x = df_results_method.iloc[:,8:10]\n",
    "    x = df_results_method[['grey', 'red', 'green', 'blue', 'SRM','EBC', 'brightness']]\n",
    "    x = normalize(x)\n",
    "    kmeans = KMeans(20, random_state = 42)\n",
    "    kmeans.fit(x)\n",
    "    identified_clusters = kmeans.fit_predict(x)\n",
    "    data_with_clusters = df_results_method.copy()\n",
    "    data_with_clusters['Clusters'] = identified_clusters \n",
    "    plt.scatter(data_with_clusters['brightness'],data_with_clusters['grey'],c=data_with_clusters['Clusters'],cmap='rainbow')\n",
    "    plt.xlabel('brightness (luminance)')\n",
    "    plt.ylabel('grey scale')\n",
    "    plt.title(f'kmeans clustering (k=20) for {method}')\n",
    "    plt.savefig(f'{method}_clusterplot.png')\n",
    "    "
   ]
  },
  {
   "cell_type": "code",
   "execution_count": null,
   "id": "51e8d277-df09-45a4-a811-264fdea6190b",
   "metadata": {},
   "outputs": [],
   "source": []
  }
 ],
 "metadata": {
  "kernelspec": {
   "display_name": "Python 3 (ipykernel)",
   "language": "python",
   "name": "python3"
  },
  "language_info": {
   "codemirror_mode": {
    "name": "ipython",
    "version": 3
   },
   "file_extension": ".py",
   "mimetype": "text/x-python",
   "name": "python",
   "nbconvert_exporter": "python",
   "pygments_lexer": "ipython3",
   "version": "3.9.7"
  }
 },
 "nbformat": 4,
 "nbformat_minor": 5
}
