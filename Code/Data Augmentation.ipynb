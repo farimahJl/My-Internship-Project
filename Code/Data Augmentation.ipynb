{
 "cells": [
  {
   "cell_type": "code",
   "execution_count": 1,
   "id": "77b1fd0b-0601-437c-87ec-7390f7c8edec",
   "metadata": {},
   "outputs": [],
   "source": [
    "import numpy as np\n",
    "import matplotlib.pyplot as plt\n",
    "from PIL import Image\n",
    "import random\n",
    "\n",
    "def generate_image_with_noise(input_image, output_image, color, grey_noise_level, white_noise_level):\n",
    "    # Open the input image using PIL\n",
    "    img = Image.new(\"RGB\", (480, 480), color)\n",
    "    \n",
    "    # Convert the image to a numpy array\n",
    "    img_array = np.array(img)\n",
    "    \n",
    "    # Generate random grey noise\n",
    "    grey_noise = np.random.randint(-grey_noise_level, grey_noise_level, img_array.shape).astype(np.int16)\n",
    "    \n",
    "    # Add grey noise to the image\n",
    "    img_array = np.clip(img_array + grey_noise, 0, 255).astype(np.uint8)\n",
    "    \n",
    "    # Generate random white noise\n",
    "    white_noise = np.random.randint(-white_noise_level, white_noise_level, img_array.shape).astype(np.int16)\n",
    "    \n",
    "    # Add white noise to the image\n",
    "    img_array = np.clip(img_array + white_noise, 0, 255).astype(np.uint8)\n",
    "    \n",
    "    # Convert the numpy array back to an image\n",
    "    img = Image.fromarray(img_array)\n",
    "    \n",
    "    # Save the new image\n",
    "    img.save(output_image)\n",
    "\n",
    "# Example input filename\n",
    "input_image = \"input.jpg\"\n",
    "\n",
    "# Open the input image\n",
    "img = Image.open(input_image)\n",
    "\n",
    "# Get the width and height of the image\n",
    "width, height = img.size\n",
    "\n",
    "# Generate 1000 images with a random pixel color, small grey noise and small white noise\n",
    "for i in range(6000):\n",
    "    # Pick a random pixel from the input image\n",
    "    x = random.randint(0, width - 1)\n",
    "    y = random.randint(0, height - 1)\n",
    "    r, g, b = img.getpixel((x, y))\n",
    "    color = (r, g, b)\n",
    "    \n",
    "    output_image = f\"Data Generated images\\output_{i}.jpg\"\n",
    "    generate_image_with_noise(input_image, output_image, color, 20, 10)"
   ]
  },
  {
   "cell_type": "code",
   "execution_count": null,
   "id": "6bc09f53-f6fb-49f7-bc99-e1416ea8f7fc",
   "metadata": {},
   "outputs": [],
   "source": []
  }
 ],
 "metadata": {
  "kernelspec": {
   "display_name": "Python 3 (ipykernel)",
   "language": "python",
   "name": "python3"
  },
  "language_info": {
   "codemirror_mode": {
    "name": "ipython",
    "version": 3
   },
   "file_extension": ".py",
   "mimetype": "text/x-python",
   "name": "python",
   "nbconvert_exporter": "python",
   "pygments_lexer": "ipython3",
   "version": "3.9.7"
  }
 },
 "nbformat": 4,
 "nbformat_minor": 5
}
