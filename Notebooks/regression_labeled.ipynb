{
 "cells": [
  {
   "cell_type": "markdown",
   "id": "cb2f4c48",
   "metadata": {},
   "source": [
    "# Linear regression for the labeled data "
   ]
  },
  {
   "cell_type": "code",
   "execution_count": 1,
   "id": "80ad1d37",
   "metadata": {},
   "outputs": [],
   "source": [
    "import pandas as pd\n",
    "import numpy as np\n",
    "import seaborn as sns\n",
    "import matplotlib.pyplot as plt\n",
    "from sklearn.preprocessing import StandardScaler\n",
    "from sklearn.linear_model import LinearRegression\n",
    "from sklearn.model_selection import train_test_split\n",
    "from sklearn import metrics\n",
    "import warnings\n",
    "warnings.filterwarnings('ignore')"
   ]
  },
  {
   "cell_type": "markdown",
   "id": "5beba721",
   "metadata": {},
   "source": [
    "# Load data"
   ]
  },
  {
   "cell_type": "code",
   "execution_count": 5,
   "id": "e8e9d4ec",
   "metadata": {},
   "outputs": [
    {
     "data": {
      "text/html": [
       "<div>\n",
       "<style scoped>\n",
       "    .dataframe tbody tr th:only-of-type {\n",
       "        vertical-align: middle;\n",
       "    }\n",
       "\n",
       "    .dataframe tbody tr th {\n",
       "        vertical-align: top;\n",
       "    }\n",
       "\n",
       "    .dataframe thead th {\n",
       "        text-align: right;\n",
       "    }\n",
       "</style>\n",
       "<table border=\"1\" class=\"dataframe\">\n",
       "  <thead>\n",
       "    <tr style=\"text-align: right;\">\n",
       "      <th></th>\n",
       "      <th>sample</th>\n",
       "      <th>method</th>\n",
       "      <th>masked</th>\n",
       "      <th>grey</th>\n",
       "      <th>red</th>\n",
       "      <th>green</th>\n",
       "      <th>blue</th>\n",
       "      <th>SRM</th>\n",
       "      <th>EBC</th>\n",
       "      <th>brightness</th>\n",
       "    </tr>\n",
       "  </thead>\n",
       "  <tbody>\n",
       "    <tr>\n",
       "      <th>0</th>\n",
       "      <td>3</td>\n",
       "      <td>random sampling</td>\n",
       "      <td>True</td>\n",
       "      <td>242</td>\n",
       "      <td>244</td>\n",
       "      <td>244</td>\n",
       "      <td>221</td>\n",
       "      <td>1</td>\n",
       "      <td>2</td>\n",
       "      <td>151</td>\n",
       "    </tr>\n",
       "    <tr>\n",
       "      <th>1</th>\n",
       "      <td>3</td>\n",
       "      <td>pca + random sampling</td>\n",
       "      <td>True</td>\n",
       "      <td>239</td>\n",
       "      <td>242</td>\n",
       "      <td>243</td>\n",
       "      <td>218</td>\n",
       "      <td>1</td>\n",
       "      <td>2</td>\n",
       "      <td>149</td>\n",
       "    </tr>\n",
       "    <tr>\n",
       "      <th>2</th>\n",
       "      <td>3</td>\n",
       "      <td>most dominant</td>\n",
       "      <td>True</td>\n",
       "      <td>240</td>\n",
       "      <td>243</td>\n",
       "      <td>244</td>\n",
       "      <td>220</td>\n",
       "      <td>1</td>\n",
       "      <td>2</td>\n",
       "      <td>150</td>\n",
       "    </tr>\n",
       "    <tr>\n",
       "      <th>3</th>\n",
       "      <td>3</td>\n",
       "      <td>pca + most dominant</td>\n",
       "      <td>True</td>\n",
       "      <td>241</td>\n",
       "      <td>241</td>\n",
       "      <td>242</td>\n",
       "      <td>218</td>\n",
       "      <td>1</td>\n",
       "      <td>2</td>\n",
       "      <td>150</td>\n",
       "    </tr>\n",
       "    <tr>\n",
       "      <th>4</th>\n",
       "      <td>3</td>\n",
       "      <td>raw</td>\n",
       "      <td>False</td>\n",
       "      <td>193</td>\n",
       "      <td>195</td>\n",
       "      <td>196</td>\n",
       "      <td>178</td>\n",
       "      <td>1</td>\n",
       "      <td>2</td>\n",
       "      <td>121</td>\n",
       "    </tr>\n",
       "    <tr>\n",
       "      <th>...</th>\n",
       "      <td>...</td>\n",
       "      <td>...</td>\n",
       "      <td>...</td>\n",
       "      <td>...</td>\n",
       "      <td>...</td>\n",
       "      <td>...</td>\n",
       "      <td>...</td>\n",
       "      <td>...</td>\n",
       "      <td>...</td>\n",
       "      <td>...</td>\n",
       "    </tr>\n",
       "    <tr>\n",
       "      <th>630</th>\n",
       "      <td>1</td>\n",
       "      <td>random sampling</td>\n",
       "      <td>True</td>\n",
       "      <td>243</td>\n",
       "      <td>243</td>\n",
       "      <td>244</td>\n",
       "      <td>237</td>\n",
       "      <td>1</td>\n",
       "      <td>2</td>\n",
       "      <td>154</td>\n",
       "    </tr>\n",
       "    <tr>\n",
       "      <th>631</th>\n",
       "      <td>1</td>\n",
       "      <td>pca + random sampling</td>\n",
       "      <td>True</td>\n",
       "      <td>242</td>\n",
       "      <td>242</td>\n",
       "      <td>243</td>\n",
       "      <td>235</td>\n",
       "      <td>1</td>\n",
       "      <td>2</td>\n",
       "      <td>153</td>\n",
       "    </tr>\n",
       "    <tr>\n",
       "      <th>632</th>\n",
       "      <td>1</td>\n",
       "      <td>most dominant</td>\n",
       "      <td>True</td>\n",
       "      <td>243</td>\n",
       "      <td>243</td>\n",
       "      <td>244</td>\n",
       "      <td>236</td>\n",
       "      <td>1</td>\n",
       "      <td>2</td>\n",
       "      <td>154</td>\n",
       "    </tr>\n",
       "    <tr>\n",
       "      <th>633</th>\n",
       "      <td>1</td>\n",
       "      <td>pca + most dominant</td>\n",
       "      <td>True</td>\n",
       "      <td>243</td>\n",
       "      <td>243</td>\n",
       "      <td>244</td>\n",
       "      <td>236</td>\n",
       "      <td>1</td>\n",
       "      <td>2</td>\n",
       "      <td>154</td>\n",
       "    </tr>\n",
       "    <tr>\n",
       "      <th>634</th>\n",
       "      <td>1</td>\n",
       "      <td>raw</td>\n",
       "      <td>False</td>\n",
       "      <td>201</td>\n",
       "      <td>200</td>\n",
       "      <td>201</td>\n",
       "      <td>196</td>\n",
       "      <td>1</td>\n",
       "      <td>2</td>\n",
       "      <td>127</td>\n",
       "    </tr>\n",
       "  </tbody>\n",
       "</table>\n",
       "<p>635 rows × 10 columns</p>\n",
       "</div>"
      ],
      "text/plain": [
       "     sample                 method  masked  grey  red  green  blue  SRM  EBC  \\\n",
       "0         3        random sampling    True   242  244    244   221    1    2   \n",
       "1         3  pca + random sampling    True   239  242    243   218    1    2   \n",
       "2         3          most dominant    True   240  243    244   220    1    2   \n",
       "3         3    pca + most dominant    True   241  241    242   218    1    2   \n",
       "4         3                    raw   False   193  195    196   178    1    2   \n",
       "..      ...                    ...     ...   ...  ...    ...   ...  ...  ...   \n",
       "630       1        random sampling    True   243  243    244   237    1    2   \n",
       "631       1  pca + random sampling    True   242  242    243   235    1    2   \n",
       "632       1          most dominant    True   243  243    244   236    1    2   \n",
       "633       1    pca + most dominant    True   243  243    244   236    1    2   \n",
       "634       1                    raw   False   201  200    201   196    1    2   \n",
       "\n",
       "     brightness  \n",
       "0           151  \n",
       "1           149  \n",
       "2           150  \n",
       "3           150  \n",
       "4           121  \n",
       "..          ...  \n",
       "630         154  \n",
       "631         153  \n",
       "632         154  \n",
       "633         154  \n",
       "634         127  \n",
       "\n",
       "[635 rows x 10 columns]"
      ]
     },
     "execution_count": 5,
     "metadata": {},
     "output_type": "execute_result"
    }
   ],
   "source": [
    "df_results = pd.read_csv('generated_results_1202_labeled.csv', sep = '\\t')\n",
    "df_results"
   ]
  },
  {
   "cell_type": "code",
   "execution_count": 6,
   "id": "c6d3c6eb",
   "metadata": {},
   "outputs": [
    {
     "name": "stdout",
     "output_type": "stream",
     "text": [
      "{'most dominant', 'random sampling', 'raw', 'pca + most dominant', 'pca + random sampling'}\n"
     ]
    },
    {
     "ename": "AttributeError",
     "evalue": "Can only use .str accessor with string values!",
     "output_type": "error",
     "traceback": [
      "\u001b[0;31m---------------------------------------------------------------------------\u001b[0m",
      "\u001b[0;31mAttributeError\u001b[0m                            Traceback (most recent call last)",
      "Input \u001b[0;32mIn [6]\u001b[0m, in \u001b[0;36m<cell line: 3>\u001b[0;34m()\u001b[0m\n\u001b[1;32m      1\u001b[0m \u001b[38;5;28mprint\u001b[39m(\u001b[38;5;28mset\u001b[39m(df_results\u001b[38;5;241m.\u001b[39mmethod))\n\u001b[1;32m      2\u001b[0m \u001b[38;5;66;03m#select only the EBC samples\u001b[39;00m\n\u001b[0;32m----> 3\u001b[0m df_labeled \u001b[38;5;241m=\u001b[39m df_results[\u001b[43mdf_results\u001b[49m\u001b[43m[\u001b[49m\u001b[38;5;124;43m'\u001b[39;49m\u001b[38;5;124;43msample\u001b[39;49m\u001b[38;5;124;43m'\u001b[39;49m\u001b[43m]\u001b[49m\u001b[38;5;241;43m.\u001b[39;49m\u001b[43mstr\u001b[49m\u001b[38;5;241m.\u001b[39mcontains(\u001b[38;5;124m'\u001b[39m\u001b[38;5;124mEBC\u001b[39m\u001b[38;5;124m'\u001b[39m) ]\u001b[38;5;241m.\u001b[39mcopy()\n\u001b[1;32m      4\u001b[0m \u001b[38;5;66;03m#retrieve EBC value from samplen name\u001b[39;00m\n\u001b[1;32m      5\u001b[0m df_labeled[\u001b[38;5;124m'\u001b[39m\u001b[38;5;124mEBC label\u001b[39m\u001b[38;5;124m'\u001b[39m] \u001b[38;5;241m=\u001b[39m df_labeled[\u001b[38;5;124m'\u001b[39m\u001b[38;5;124msample\u001b[39m\u001b[38;5;124m'\u001b[39m]\u001b[38;5;241m.\u001b[39mstr[\u001b[38;5;241m3\u001b[39m:\u001b[38;5;241m5\u001b[39m]\u001b[38;5;241m.\u001b[39mastype(\u001b[38;5;28mint\u001b[39m)\n",
      "File \u001b[0;32m~/.venv/dsls/lib/python3.10/site-packages/pandas/core/generic.py:5575\u001b[0m, in \u001b[0;36mNDFrame.__getattr__\u001b[0;34m(self, name)\u001b[0m\n\u001b[1;32m   5568\u001b[0m \u001b[38;5;28;01mif\u001b[39;00m (\n\u001b[1;32m   5569\u001b[0m     name \u001b[38;5;129;01mnot\u001b[39;00m \u001b[38;5;129;01min\u001b[39;00m \u001b[38;5;28mself\u001b[39m\u001b[38;5;241m.\u001b[39m_internal_names_set\n\u001b[1;32m   5570\u001b[0m     \u001b[38;5;129;01mand\u001b[39;00m name \u001b[38;5;129;01mnot\u001b[39;00m \u001b[38;5;129;01min\u001b[39;00m \u001b[38;5;28mself\u001b[39m\u001b[38;5;241m.\u001b[39m_metadata\n\u001b[1;32m   5571\u001b[0m     \u001b[38;5;129;01mand\u001b[39;00m name \u001b[38;5;129;01mnot\u001b[39;00m \u001b[38;5;129;01min\u001b[39;00m \u001b[38;5;28mself\u001b[39m\u001b[38;5;241m.\u001b[39m_accessors\n\u001b[1;32m   5572\u001b[0m     \u001b[38;5;129;01mand\u001b[39;00m \u001b[38;5;28mself\u001b[39m\u001b[38;5;241m.\u001b[39m_info_axis\u001b[38;5;241m.\u001b[39m_can_hold_identifiers_and_holds_name(name)\n\u001b[1;32m   5573\u001b[0m ):\n\u001b[1;32m   5574\u001b[0m     \u001b[38;5;28;01mreturn\u001b[39;00m \u001b[38;5;28mself\u001b[39m[name]\n\u001b[0;32m-> 5575\u001b[0m \u001b[38;5;28;01mreturn\u001b[39;00m \u001b[38;5;28;43mobject\u001b[39;49m\u001b[38;5;241;43m.\u001b[39;49m\u001b[38;5;21;43m__getattribute__\u001b[39;49m\u001b[43m(\u001b[49m\u001b[38;5;28;43mself\u001b[39;49m\u001b[43m,\u001b[49m\u001b[43m \u001b[49m\u001b[43mname\u001b[49m\u001b[43m)\u001b[49m\n",
      "File \u001b[0;32m~/.venv/dsls/lib/python3.10/site-packages/pandas/core/accessor.py:182\u001b[0m, in \u001b[0;36mCachedAccessor.__get__\u001b[0;34m(self, obj, cls)\u001b[0m\n\u001b[1;32m    179\u001b[0m \u001b[38;5;28;01mif\u001b[39;00m obj \u001b[38;5;129;01mis\u001b[39;00m \u001b[38;5;28;01mNone\u001b[39;00m:\n\u001b[1;32m    180\u001b[0m     \u001b[38;5;66;03m# we're accessing the attribute of the class, i.e., Dataset.geo\u001b[39;00m\n\u001b[1;32m    181\u001b[0m     \u001b[38;5;28;01mreturn\u001b[39;00m \u001b[38;5;28mself\u001b[39m\u001b[38;5;241m.\u001b[39m_accessor\n\u001b[0;32m--> 182\u001b[0m accessor_obj \u001b[38;5;241m=\u001b[39m \u001b[38;5;28;43mself\u001b[39;49m\u001b[38;5;241;43m.\u001b[39;49m\u001b[43m_accessor\u001b[49m\u001b[43m(\u001b[49m\u001b[43mobj\u001b[49m\u001b[43m)\u001b[49m\n\u001b[1;32m    183\u001b[0m \u001b[38;5;66;03m# Replace the property with the accessor object. Inspired by:\u001b[39;00m\n\u001b[1;32m    184\u001b[0m \u001b[38;5;66;03m# https://www.pydanny.com/cached-property.html\u001b[39;00m\n\u001b[1;32m    185\u001b[0m \u001b[38;5;66;03m# We need to use object.__setattr__ because we overwrite __setattr__ on\u001b[39;00m\n\u001b[1;32m    186\u001b[0m \u001b[38;5;66;03m# NDFrame\u001b[39;00m\n\u001b[1;32m    187\u001b[0m \u001b[38;5;28mobject\u001b[39m\u001b[38;5;241m.\u001b[39m\u001b[38;5;21m__setattr__\u001b[39m(obj, \u001b[38;5;28mself\u001b[39m\u001b[38;5;241m.\u001b[39m_name, accessor_obj)\n",
      "File \u001b[0;32m~/.venv/dsls/lib/python3.10/site-packages/pandas/core/strings/accessor.py:177\u001b[0m, in \u001b[0;36mStringMethods.__init__\u001b[0;34m(self, data)\u001b[0m\n\u001b[1;32m    174\u001b[0m \u001b[38;5;28;01mdef\u001b[39;00m \u001b[38;5;21m__init__\u001b[39m(\u001b[38;5;28mself\u001b[39m, data):\n\u001b[1;32m    175\u001b[0m     \u001b[38;5;28;01mfrom\u001b[39;00m \u001b[38;5;21;01mpandas\u001b[39;00m\u001b[38;5;21;01m.\u001b[39;00m\u001b[38;5;21;01mcore\u001b[39;00m\u001b[38;5;21;01m.\u001b[39;00m\u001b[38;5;21;01marrays\u001b[39;00m\u001b[38;5;21;01m.\u001b[39;00m\u001b[38;5;21;01mstring_\u001b[39;00m \u001b[38;5;28;01mimport\u001b[39;00m StringDtype\n\u001b[0;32m--> 177\u001b[0m     \u001b[38;5;28mself\u001b[39m\u001b[38;5;241m.\u001b[39m_inferred_dtype \u001b[38;5;241m=\u001b[39m \u001b[38;5;28;43mself\u001b[39;49m\u001b[38;5;241;43m.\u001b[39;49m\u001b[43m_validate\u001b[49m\u001b[43m(\u001b[49m\u001b[43mdata\u001b[49m\u001b[43m)\u001b[49m\n\u001b[1;32m    178\u001b[0m     \u001b[38;5;28mself\u001b[39m\u001b[38;5;241m.\u001b[39m_is_categorical \u001b[38;5;241m=\u001b[39m is_categorical_dtype(data\u001b[38;5;241m.\u001b[39mdtype)\n\u001b[1;32m    179\u001b[0m     \u001b[38;5;28mself\u001b[39m\u001b[38;5;241m.\u001b[39m_is_string \u001b[38;5;241m=\u001b[39m \u001b[38;5;28misinstance\u001b[39m(data\u001b[38;5;241m.\u001b[39mdtype, StringDtype)\n",
      "File \u001b[0;32m~/.venv/dsls/lib/python3.10/site-packages/pandas/core/strings/accessor.py:231\u001b[0m, in \u001b[0;36mStringMethods._validate\u001b[0;34m(data)\u001b[0m\n\u001b[1;32m    228\u001b[0m inferred_dtype \u001b[38;5;241m=\u001b[39m lib\u001b[38;5;241m.\u001b[39minfer_dtype(values, skipna\u001b[38;5;241m=\u001b[39m\u001b[38;5;28;01mTrue\u001b[39;00m)\n\u001b[1;32m    230\u001b[0m \u001b[38;5;28;01mif\u001b[39;00m inferred_dtype \u001b[38;5;129;01mnot\u001b[39;00m \u001b[38;5;129;01min\u001b[39;00m allowed_types:\n\u001b[0;32m--> 231\u001b[0m     \u001b[38;5;28;01mraise\u001b[39;00m \u001b[38;5;167;01mAttributeError\u001b[39;00m(\u001b[38;5;124m\"\u001b[39m\u001b[38;5;124mCan only use .str accessor with string values!\u001b[39m\u001b[38;5;124m\"\u001b[39m)\n\u001b[1;32m    232\u001b[0m \u001b[38;5;28;01mreturn\u001b[39;00m inferred_dtype\n",
      "\u001b[0;31mAttributeError\u001b[0m: Can only use .str accessor with string values!"
     ]
    }
   ],
   "source": [
    "print(set(df_results.method))\n",
    "#select only the EBC samples\n",
    "df_labeled = df_results[df_results['sample'].str.contains('EBC') ].copy()\n",
    "#retrieve EBC value from samplen name\n",
    "df_labeled['EBC label'] = df_labeled['sample'].str[3:5].astype(int)\n",
    "# split results in most dominant and random sampling\n",
    "df_rand = df_labeled[(df_labeled.method=='random sampling') | (df_labeled.method=='pca + random sampling') ]\n",
    "df_most = df_labeled[(df_labeled.method=='most dominant') | (df_labeled.method=='pca + most dominant') ]"
   ]
  },
  {
   "cell_type": "markdown",
   "id": "da45cf54",
   "metadata": {},
   "source": [
    "# Explore data\n",
    "\n",
    "To see the difference between pre-processed with PCA and not preprocessed with PCA data is plotted per method"
   ]
  },
  {
   "cell_type": "code",
   "execution_count": 3,
   "id": "70ecf419",
   "metadata": {
    "scrolled": true
   },
   "outputs": [
    {
     "data": {
      "image/png": "[encoded data removed]",
      "text/plain": [
       "<Figure size 432x288 with 1 Axes>"
      ]
     },
     "metadata": {
      "needs_background": "light"
     },
     "output_type": "display_data"
    }
   ],
   "source": [
    "sns.scatterplot(data=df_rand, x='brightness', y='EBC label', hue='method')\n",
    "plt.legend(bbox_to_anchor=(1.02, 0.55), loc='upper left', borderaxespad=0)\n",
    "plt.savefig('bright_ebc_randsampling.jpeg')"
   ]
  },
  {
   "cell_type": "code",
   "execution_count": 4,
   "id": "99eb6cbb",
   "metadata": {
    "scrolled": true
   },
   "outputs": [
    {
     "data": {
      "image/png": "[encoded data removed]",
      "text/plain": [
       "<Figure size 432x288 with 1 Axes>"
      ]
     },
     "metadata": {
      "needs_background": "light"
     },
     "output_type": "display_data"
    }
   ],
   "source": [
    "sns.scatterplot(data=df_most, x='brightness', y='EBC label', hue='method')\n",
    "plt.legend(bbox_to_anchor=(1.02, 0.55), loc='upper left', borderaxespad=0)\n",
    "plt.savefig('bright_ebc_most.jpeg')"
   ]
  },
  {
   "cell_type": "markdown",
   "id": "c98b9ddb",
   "metadata": {},
   "source": [
    "As we can see the PCA method introduces more variation and is less suitable for regression. This is the case for both most dominant + PCA and random sampling + PCA"
   ]
  },
  {
   "cell_type": "markdown",
   "id": "5e088302",
   "metadata": {},
   "source": [
    "# model without PCA processing\n",
    "\n",
    "As depicted above brightness and grey value might be used for the regression model"
   ]
  },
  {
   "cell_type": "code",
   "execution_count": 5,
   "id": "44e00977",
   "metadata": {},
   "outputs": [],
   "source": [
    "def model_data(df, method):\n",
    "    df = df[df_labeled.method==method] \n",
    "    y = df['EBC label']\n",
    "    X = np.array(df[['grey', 'brightness']])\n",
    "    object= StandardScaler()\n",
    "    scale = object.fit_transform(X) \n",
    "    reg = LinearRegression().fit(X, y)\n",
    "    pred = reg.predict(X)\n",
    "    df['predicted EBC'] = pred\n",
    "    return df\n"
   ]
  },
  {
   "cell_type": "code",
   "execution_count": 6,
   "id": "bfd60dee",
   "metadata": {},
   "outputs": [
    {
     "data": {
      "image/png": "[encoded data removed]",
      "text/plain": [
       "<Figure size 432x288 with 1 Axes>"
      ]
     },
     "metadata": {
      "needs_background": "light"
     },
     "output_type": "display_data"
    }
   ],
   "source": [
    "method = 'most dominant'\n",
    "\n",
    "data = df_labeled\n",
    "df = model_data(data, method)\n",
    "#title is from evaluation\n",
    "title = 'EBC for 0.1W (most dominant)= 5.78 * grey value + -8.87 * brightness, R^2 = 0.78'\n",
    "sns.scatterplot(data=df, x='grey', y='predicted EBC', hue = 'predicted EBC', palette = \"YlOrBr\")\n",
    "sns.scatterplot(data=df, x='grey', y='EBC label', color = 'lightblue', alpha = 0.8, label = 'label')\n",
    "plt.legend(bbox_to_anchor=(1.02, 0.8), loc='upper left', borderaxespad=0, title = 'predicted EBC')\n",
    "plt.xlabel(f'''grey value\\n\n",
    "\n",
    "{title}''')\n",
    "plt.tight_layout()\n",
    "plt.savefig(f'regression_{method}.jpeg')\n"
   ]
  },
  {
   "cell_type": "code",
   "execution_count": 7,
   "id": "daa57935",
   "metadata": {
    "scrolled": true
   },
   "outputs": [
    {
     "data": {
      "image/png": "[encoded data removed]",
      "text/plain": [
       "<Figure size 432x288 with 1 Axes>"
      ]
     },
     "metadata": {
      "needs_background": "light"
     },
     "output_type": "display_data"
    }
   ],
   "source": [
    "method = 'random sampling'\n",
    "\n",
    "data = df_labeled\n",
    "df = model_data(data, method)\n",
    "#title is from evaluation\n",
    "title = 'EBC for 0.1W (random sampling)= -0.38 * grey value + -1.11 * brightness, R^2 = 0.45'\n",
    "sns.scatterplot(data=df, x='grey', y='predicted EBC', hue = 'predicted EBC', palette = \"YlOrBr\")\n",
    "sns.scatterplot(data=df, x='grey', y='EBC label', color = 'lightblue', alpha = 0.8, label = 'label')\n",
    "plt.legend(bbox_to_anchor=(1.02, 0.8), loc='upper left', borderaxespad=0, title = 'predicted EBC')\n",
    "plt.xlabel(f'''grey value\\n\n",
    "\n",
    "{title}''')\n",
    "plt.tight_layout()\n",
    "plt.savefig(f'regression_{method}.jpeg')"
   ]
  },
  {
   "cell_type": "markdown",
   "id": "4844df89",
   "metadata": {},
   "source": [
    "This is a proof of principle. The combination of greyvalue and calculated brightness does predict EBC values that are comparable with the labels. This is only predicted for 0.1 White brightness configuration. It is advisable to gather more samples per brightness configuration. "
   ]
  },
  {
   "cell_type": "markdown",
   "id": "874647b3",
   "metadata": {},
   "source": [
    "# Evaluation of models"
   ]
  },
  {
   "cell_type": "code",
   "execution_count": 8,
   "id": "b4500c0c",
   "metadata": {},
   "outputs": [],
   "source": [
    "def evaluate_(df, method):\n",
    "    df = df[df_labeled.method==method] \n",
    "    y = df['EBC label']\n",
    "    X = np.array(df[['grey', 'brightness']])\n",
    "    X_train, X_test, y_train, y_test = train_test_split(X,y,test_size=1/3, random_state=0)\n",
    "    print(len(X_train), len(X_test))\n",
    "    reg = LinearRegression().fit(X_train, y_train)\n",
    "    y_predicted = reg.predict(X_test)\n",
    "    # model evaluation for testing set\n",
    "    mse = metrics.mean_squared_error(y_test, y_predicted)\n",
    "    r2 = metrics.r2_score(y_test, y_predicted)\n",
    "\n",
    "    print(\"The model performance for testing set\")\n",
    "    print(\"--------------------------------------\")\n",
    "    print(f'EBC for 0.1W ({method})= {reg.coef_[0]:.2f} * grey value + {reg.coef_[1]:.2f} * brightness')\n",
    "    print('MSE is {}'.format(mse))\n",
    "    print('R2 score is {}'.format(r2))"
   ]
  },
  {
   "cell_type": "code",
   "execution_count": 9,
   "id": "b11a524c",
   "metadata": {},
   "outputs": [
    {
     "name": "stdout",
     "output_type": "stream",
     "text": [
      "6 3\n",
      "The model performance for testing set\n",
      "--------------------------------------\n",
      "EBC for 0.1W (random sampling)= -0.38 * grey value + -1.11 * brightness\n",
      "MSE is 75.89569941842679\n",
      "R2 score is 0.45267524457865294\n"
     ]
    }
   ],
   "source": [
    "method = 'random sampling'\n",
    "data = df_labeled\n",
    "evaluate_(data, method)"
   ]
  },
  {
   "cell_type": "code",
   "execution_count": 10,
   "id": "a919303c",
   "metadata": {},
   "outputs": [
    {
     "name": "stdout",
     "output_type": "stream",
     "text": [
      "6 3\n",
      "The model performance for testing set\n",
      "--------------------------------------\n",
      "EBC for 0.1W (most dominant)= 5.78 * grey value + -8.87 * brightness\n",
      "MSE is 30.42077560994962\n",
      "R2 score is 0.7806194066590172\n"
     ]
    }
   ],
   "source": [
    "method = 'most dominant'\n",
    "data = df_labeled\n",
    "evaluate_(data, method)"
   ]
  },
  {
   "cell_type": "code",
   "execution_count": null,
   "id": "90801cd9",
   "metadata": {},
   "outputs": [],
   "source": []
  }
 ],
 "metadata": {
  "kernelspec": {
   "display_name": "Python 3 (ipykernel)",
   "language": "python",
   "name": "python3"
  },
  "language_info": {
   "codemirror_mode": {
    "name": "ipython",
    "version": 3
   },
   "file_extension": ".py",
   "mimetype": "text/x-python",
   "name": "python",
   "nbconvert_exporter": "python",
   "pygments_lexer": "ipython3",
   "version": "3.9.7"
  }
 },
 "nbformat": 4,
 "nbformat_minor": 5
}
